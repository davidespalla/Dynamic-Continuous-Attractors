{
 "cells": [
  {
   "cell_type": "code",
   "execution_count": 1,
   "metadata": {},
   "outputs": [
    {
     "name": "stdout",
     "output_type": "stream",
     "text": [
      "Populating the interactive namespace from numpy and matplotlib\n"
     ]
    }
   ],
   "source": [
    "%pylab inline\n",
    "from scipy.stats import norm"
   ]
  },
  {
   "cell_type": "markdown",
   "metadata": {},
   "source": [
    "# Functions"
   ]
  },
  {
   "cell_type": "code",
   "execution_count": 2,
   "metadata": {},
   "outputs": [],
   "source": [
    "def sigma(x):\n",
    "    return norm.pdf(x)\n",
    "\n",
    "def PHI(x):\n",
    "    return norm.cdf(x)\n",
    "\n",
    "def N(x):\n",
    "    return x*PHI(x)+sigma(x)\n",
    "def M(x):\n",
    "    return (1+pow(x,2))*PHI(x)+x*sigma(x)    \n",
    "\n",
    "def Nprime(x):\n",
    "    return PHI(x)\n",
    "\n",
    "def F(u,uprime,utilde,gamma,g,w):\n",
    "    return -2*g*gamma*PHI(u)*uprime-2*g*N(u)+utilde-w\n",
    "\n",
    "def wstar(g):\n",
    "    x=1.0/(2.0*g)\n",
    "    return -2*g*N(norm.ppf(x))+norm.ppf(x)"
   ]
  },
  {
   "cell_type": "markdown",
   "metadata": {},
   "source": [
    "# DDE numerical integrator"
   ]
  },
  {
   "cell_type": "code",
   "execution_count": 5,
   "metadata": {},
   "outputs": [],
   "source": [
    "#CONVENTIONS:\n",
    "#w<0 ; Deltax >0 ; u0 <0 ; x0<0\n",
    "\n",
    "def Integrate_u(g,w,gamma,Deltax,u0,x0,resolution_density=100):\n",
    "    xmax=2*abs(x0)\n",
    "    resolution=2*abs(x0)*resolution_density\n",
    "    u_old=u0\n",
    "    up_old=0\n",
    "    x=np.linspace(x0,xmax,resolution)\n",
    "    Dr=abs(xmax-x0)/resolution\n",
    "    solution=np.zeros(len(x))\n",
    "    derivative=np.zeros(len(x))\n",
    "    solution[:int(resolution*Deltax/(xmax-x0))]=u0\n",
    "    derivative[:int(resolution*Deltax/(xmax-x0))]=0\n",
    "    for i in range(int((Deltax)*resolution/(xmax-x0)),2*int((Deltax)*resolution/(xmax-x0))):\n",
    "        solution[i]=u_old\n",
    "        derivative[i]=up_old\n",
    "        a=F(u0,0,u_old,gamma,g,w)\n",
    "        up_new=up_old+(a)*Dr\n",
    "        u_new=u_old+(up_new)*Dr\n",
    "        u_old=u_new\n",
    "        up_old=up_new\n",
    "        \n",
    "    Di=int(Deltax*resolution/(xmax-x0))\n",
    "    for i in range(2*int((Deltax)*resolution/(xmax-x0)),len(x)):\n",
    "        solution[i]=u_old\n",
    "        derivative[i]=up_old\n",
    "        a=F(solution[i-Di],derivative[i-Di],u_old,gamma,g,w)\n",
    "        up_new=up_old+(a)*Dr\n",
    "        u_new=u_old+(up_new)*Dr\n",
    "        u_old=u_new\n",
    "        up_old=up_new\n",
    "    \n",
    "    #solution[solution<u0]=u0\n",
    "    return solution,derivative\n",
    "\n",
    "def u_profile(g,w,gamma,Deltax,u0,x0,resolution_density=100):\n",
    "    xmax=2*abs(x0)\n",
    "    resolution=2*abs(x0)*resolution_density\n",
    "    u_old=u0\n",
    "    up_old=0\n",
    "    x=np.linspace(x0,xmax,resolution)\n",
    "    Dr=abs(xmax-x0)/resolution\n",
    "    solution=np.zeros(len(x))\n",
    "    derivative=np.zeros(len(x))\n",
    "    solution[:int(resolution*Deltax/(xmax-x0))]=u0\n",
    "    derivative[:int(resolution*Deltax/(xmax-x0))]=0\n",
    "    for i in range(int((Deltax)*resolution/(xmax-x0)),2*int((Deltax)*resolution/(xmax-x0))):\n",
    "        solution[i]=u_old\n",
    "        derivative[i]=up_old\n",
    "        a=F(u0,0,u_old,gamma,g,w)\n",
    "        up_new=up_old+(a)*Dr\n",
    "        u_new=u_old+(up_new)*Dr\n",
    "        u_old=u_new\n",
    "        up_old=up_new\n",
    "        \n",
    "    Di=int(Deltax*resolution/(xmax-x0))\n",
    "    for i in range(2*int((Deltax)*resolution/(xmax-x0)),len(x)):\n",
    "        solution[i]=u_old\n",
    "        derivative[i]=up_old\n",
    "        a=F(solution[i-Di],derivative[i-Di],u_old,gamma,g,w)\n",
    "        up_new=up_old+(a)*Dr\n",
    "        u_new=u_old+(up_new)*Dr\n",
    "        u_old=u_new\n",
    "        up_old=up_new\n",
    "        \n",
    "    mins_and_maxs=[i for i in range(len(derivative[1:])) if derivative[i-1]*derivative[i]<0]\n",
    "    if len(mins_and_maxs)>1:\n",
    "        solution[mins_and_maxs[1]:]=u0\n",
    "        \n",
    "    \n",
    "    solution[solution<u0]=u0\n",
    "        \n",
    "    solution=roll(solution,int(len(solution)/2)-argmax(solution))\n",
    "\n",
    "    return solution\n",
    "\n",
    "def find_u0(g,w,x0,precision=0.01):\n",
    "    low=wstar(g)-5\n",
    "    high=0\n",
    "    \n",
    "    count=0\n",
    "    gamma=0\n",
    "    Deltax=0\n",
    "    converged=False\n",
    "    \n",
    "    while not converged:\n",
    "        midpoint=(high+low)/2.0\n",
    "        u0=midpoint\n",
    "        u,du=Integrate_u(g,w,gamma,Deltax,u0,x0)\n",
    "        if u[-1]<u0 and np.asarray([du[int(len(du)/2):]<0]).all():\n",
    "            low=midpoint   \n",
    "        else:\n",
    "            high=midpoint\n",
    "            \n",
    "        converged=(abs(u[-1]-u0)<precision) or count>200\n",
    "        count=count+1\n",
    "        \n",
    "    if count>200:\n",
    "        print(\"Not converged!\")\n",
    "        \n",
    "    \n",
    "    return u[-1]\n",
    "\n",
    "def find_Deltax(g,w,gamma,u0,x0,precision=0.001):\n",
    "    low=0\n",
    "    high=gamma+0.1\n",
    "    \n",
    "    converged=False\n",
    "    count=0\n",
    "    Deltax_old=0\n",
    "    while not converged:\n",
    "        midpoint=(high+low)/2.0\n",
    "        Deltax=midpoint\n",
    "        u,du=Integrate_u(g,w,gamma,Deltax,u0,x0)\n",
    "        if u[-1]<u0 and np.asarray([du[int(len(du)/2):]<0]).all():\n",
    "            high=midpoint \n",
    "        else:\n",
    "            low=midpoint\n",
    "            \n",
    "        converged=(abs(Deltax-Deltax_old)<precision) or count>200\n",
    "        \n",
    "        Deltax_old=Deltax\n",
    "        count=count+1\n",
    "    if count>200:\n",
    "        print(\"Not converged!\")\n",
    "        \n",
    "    return Deltax"
   ]
  },
  {
   "cell_type": "markdown",
   "metadata": {},
   "source": [
    "# Solution in a range of $g$, $w$ and $\\gamma$"
   ]
  },
  {
   "cell_type": "code",
   "execution_count": null,
   "metadata": {},
   "outputs": [],
   "source": [
    "x0=-10 #size of the environment=30\n",
    "raw_u=np.zeros((5,5,5,2000))\n",
    "raw_du=np.zeros((5,5,5,2000))\n",
    "corrected_u=np.zeros((5,5,5,2000))\n",
    "Deltas=np.zeros((5,5,5))\n",
    "gammas=linspace(0,2,5)\n",
    "gs=linspace(0.7,3,5)\n",
    "for i in range(len(gammas)):\n",
    "    for j in range(len(gs)):\n",
    "        ws=wstar(gs[j])+linspace(-3,-0.1,5)\n",
    "        for k in range(len(ws)):\n",
    "            print(\"Calculating profile for: gamma=\"+str(gammas[i])+\" g=\"+str(gs[j])+\" w=\"+str(ws[k]))\n",
    "            w=ws[k]\n",
    "            g=gs[j]\n",
    "            gamma=gammas[i]\n",
    "            u0=find_u0(g,w,x0)\n",
    "            Deltax=find_Deltax(g,w,gamma,u0,x0)\n",
    "            Deltas[i][j][k]=Deltax\n",
    "            Deltax_corrected=Deltax+0.1*Deltax\n",
    "            corrected_u[i][j][k][:]=u_profile(g,w,gamma,Deltax_corrected,u0,x0)\n",
    "            raw_u[i][j][k][:],raw_du[i][j][k][:]=Integrate_u(g,w,gamma,Deltax,u0,x0)\n",
    "            print(\"Done. \"+str(k+j*len(gs)+i*len(gs)*len(gammas))+\"/\"+str(len(gammas)*len(gs)*len(ws))+\" completed\")\n",
    "\n"
   ]
  },
  {
   "cell_type": "code",
   "execution_count": 43,
   "metadata": {},
   "outputs": [],
   "source": [
    "# SAVES DATA\n",
    "'''\n",
    "np.save(\"raw_u\",raw_u)\n",
    "np.save(\"raw_du\",raw_du)\n",
    "np.save(\"corrected_u\",corrected_u)\n",
    "np.save(\"Deltas\",Deltas)\n",
    "'''"
   ]
  },
  {
   "cell_type": "markdown",
   "metadata": {},
   "source": [
    "# Activity plotter"
   ]
  },
  {
   "cell_type": "code",
   "execution_count": 8,
   "metadata": {},
   "outputs": [],
   "source": [
    "#corrected_u=np.load(\"corrected_u.npy\")"
   ]
  },
  {
   "cell_type": "code",
   "execution_count": 10,
   "metadata": {},
   "outputs": [
    {
     "data": {
      "image/png": "[encoded data removed]",
      "text/plain": [
       "<Figure size 864x288 with 3 Axes>"
      ]
     },
     "metadata": {},
     "output_type": "display_data"
    }
   ],
   "source": [
    "j=0\n",
    "k=3\n",
    "x=linspace(-10,10,len(corrected_u[0][0][0]))\n",
    "figure(figsize=(12,4))\n",
    "subplot(1,3,1)\n",
    "plot(x,N(corrected_u[0][j][k]),c=\"k\")\n",
    "ylim(0,9)\n",
    "title(r\"$\\gamma=0$\",fontsize=20)\n",
    "xlabel(\"x\",fontsize=15)\n",
    "ylabel(\"v(x)\",fontsize=15)\n",
    "subplot(1,3,2)\n",
    "plot(x,N(corrected_u[2][j][k]),c=\"k\")\n",
    "ylim(0,9)\n",
    "title(r\"$\\gamma=1$\",fontsize=20)\n",
    "xlabel(\"x\",fontsize=15)\n",
    "ylabel(\"v(x)\",fontsize=15)\n",
    "subplot(1,3,3)\n",
    "plot(x,N(corrected_u[4][j][k]),c=\"k\")\n",
    "ylim(0,9)\n",
    "title(r\"$\\gamma=2$\",fontsize=20)\n",
    "xlabel(\"x\",fontsize=15)\n",
    "ylabel(\"v(x)\",fontsize=15)\n",
    "tight_layout()\n",
    "savefig(\"v_profiles.eps\")"
   ]
  }
 ],
 "metadata": {
  "kernelspec": {
   "display_name": "Python 3",
   "language": "python",
   "name": "python3"
  },
  "language_info": {
   "codemirror_mode": {
    "name": "ipython",
    "version": 3
   },
   "file_extension": ".py",
   "mimetype": "text/x-python",
   "name": "python",
   "nbconvert_exporter": "python",
   "pygments_lexer": "ipython3",
   "version": "3.6.5"
  }
 },
 "nbformat": 4,
 "nbformat_minor": 2
}
